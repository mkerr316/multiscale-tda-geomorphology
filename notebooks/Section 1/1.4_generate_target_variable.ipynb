{
 "cells": [
  {
   "cell_type": "markdown",
   "id": "289ec07392516560",
   "metadata": {},
   "source": [
    "# 1.4: Generate WEPP Target Variable via WEPPcloud API\n",
    "\n",
    "**Objective:** To programmatically execute a WEPP simulation using the WEPPcloud web service, monitor its progress, and download the final raster of average annual sediment yield. This notebook completely replaces the manual workflow of downloading climate and soil data."
   ]
  },
  {
   "cell_type": "markdown",
   "id": "56be3d45af53204a",
   "metadata": {},
   "source": [
    "### 1. Setup and Configuration\n",
    "\n",
    "* **Imports:** Import necessary libraries (`wepppy`, `pathlib`, `yaml`, etc.).\n",
    "* **Load Config:** Load the `weppcloud` section from the main `config.yml` file.\n",
    "* **Load AOI:** Read the study area shapefile specified in the configuration."
   ]
  },
  {
   "cell_type": "code",
   "execution_count": 1,
   "id": "42ad08438be3305a",
   "metadata": {
    "ExecuteTime": {
     "end_time": "2025-10-20T02:00:33.465155Z",
     "start_time": "2025-10-20T02:00:33.443808Z"
    }
   },
   "outputs": [
    {
     "name": "stdout",
     "output_type": "stream",
     "text": [
      "\u001b[37m2025-10-19 22:18:08 - 1.4_generate_target_variable - INFO - ✅ Configuration loaded successfully.\u001b[0m\n",
      "\u001b[37m2025-10-19 22:18:08 - 1.4_generate_target_variable - INFO - Study Area Shapefile: D:\\OneDrive - University of Georgia\\multiscale_tda_geomorphology\\data\\raw\\boundaries\\study_provinces.shp\u001b[0m\n",
      "\u001b[37m2025-10-19 22:18:08 - 1.4_generate_target_variable - INFO - Output Directory: D:\\OneDrive - University of Georgia\\multiscale_tda_geomorphology\\data\\processed\\target_variable\u001b[0m\n"
     ]
    }
   ],
   "source": [
    "from __future__ import annotations\n",
    "\n",
    "import logging\n",
    "import math\n",
    "import re\n",
    "import sys\n",
    "from pathlib import Path\n",
    "from shapely.geometry import box\n",
    "import yaml\n",
    "import geopandas as gpd\n",
    "import pandas as pd\n",
    "import psutil\n",
    "import matplotlib.pyplot as plt\n",
    "from matplotlib.patches import Rectangle\n",
    "from matplotlib.lines import Line2D\n",
    "import contextily as ctx\n",
    "\n",
    "# --- Project-Specific Modules ---\n",
    "# Add project's src directory to path to allow imports\n",
    "def find_project_root(marker='config.yml'):\n",
    "    path = Path.cwd().resolve()\n",
    "    while path.parent != path:\n",
    "        if (path / marker).exists():\n",
    "            return path\n",
    "        path = path.parent\n",
    "    raise FileNotFoundError(f\"Project root with marker '{marker}' not found.\")\n",
    "\n",
    "PROJECT_ROOT = find_project_root()\n",
    "if str(PROJECT_ROOT / 'src') not in sys.path:\n",
    "    sys.path.insert(0, str(PROJECT_ROOT / 'src'))\n",
    "\n",
    "from geo_tda.utils import setup_colored_logging\n",
    "from geo_tda.data_acquisition.weppcloud_client import (\n",
    "    submit_weppcloud_job,\n",
    "    monitor_job_status,\n",
    "    download_weppcloud_result\n",
    ")\n",
    "# from src.plotting_utils import plot_raster_with_boundary\n",
    "\n",
    "setup_colored_logging()\n",
    "log = logging.getLogger(\"1.4_generate_target_variable\")\n",
    "\n",
    "# Load configuration\n",
    "CONFIG_PATH = PROJECT_ROOT / \"config.yml\"\n",
    "with open(CONFIG_PATH) as f:\n",
    "    config = yaml.safe_load(f)\n",
    "\n",
    "W_CONFIG = config['weppcloud']\n",
    "log.info(\"✅ Configuration loaded successfully.\")\n",
    "\n",
    "# Resolve paths from config\n",
    "AOI_PATH = PROJECT_ROOT / W_CONFIG['aoi_path']\n",
    "OUTPUT_DIR = PROJECT_ROOT / W_CONFIG['output_directory']\n",
    "\n",
    "log.info(f\"Study Area Shapefile: {AOI_PATH}\")\n",
    "log.info(f\"Output Directory: {OUTPUT_DIR}\")"
   ]
  },
  {
   "cell_type": "markdown",
   "id": "4ba8ca2ccf3c44e4",
   "metadata": {},
   "source": [
    "### 2. Call `weppcloud_client.py` Functions\n"
   ]
  },
  {
   "cell_type": "code",
   "execution_count": 2,
   "id": "3e7df3d5766d958c",
   "metadata": {
    "ExecuteTime": {
     "end_time": "2025-10-20T02:03:18.521565Z",
     "start_time": "2025-10-20T02:00:48.379992Z"
    }
   },
   "outputs": [
    {
     "name": "stdout",
     "output_type": "stream",
     "text": [
      "\u001b[37m2025-10-19 22:18:08 - geo_tda.data_acquisition.weppcloud_client - INFO - 🚀 Submitting new WEPPcloud job: 'Multiscale_TDA_Geomorphology_Fall2025'\u001b[0m\n",
      "\u001b[37m2025-10-19 22:18:08 - geo_tda.data_acquisition.weppcloud_client - INFO -    - AOI Shapefile: D:\\OneDrive - University of Georgia\\multiscale_tda_geomorphology\\data\\raw\\boundaries\\study_provinces.shp\u001b[0m\n",
      "\u001b[37m2025-10-19 22:18:08 - geo_tda.data_acquisition.weppcloud_client - INFO -    - Simulation Length: 100 years\u001b[0m\n",
      "\u001b[37m2025-10-19 22:18:08 - geo_tda.data_acquisition.weppcloud_client - INFO - ✅ Job successfully submitted. Job ID: job_a132b5b48f7c\u001b[0m\n",
      "\u001b[37m2025-10-19 22:18:08 - geo_tda.data_acquisition.weppcloud_client - INFO - ⏳ Monitoring status for Job ID: job_a132b5b48f7c (checking every 30s)\u001b[0m\n",
      "\u001b[37m2025-10-19 22:18:08 - geo_tda.data_acquisition.weppcloud_client - INFO -    - Current status: PENDING (Elapsed: 0s)\u001b[0m\n",
      "\u001b[37m2025-10-19 22:18:38 - geo_tda.data_acquisition.weppcloud_client - INFO -    - Current status: RUNNING (Elapsed: 30s)\u001b[0m\n",
      "\u001b[37m2025-10-19 22:19:08 - geo_tda.data_acquisition.weppcloud_client - INFO -    - Current status: RUNNING (Elapsed: 60s)\u001b[0m\n",
      "\u001b[37m2025-10-19 22:19:38 - geo_tda.data_acquisition.weppcloud_client - INFO -    - Current status: RUNNING (Elapsed: 90s)\u001b[0m\n",
      "\u001b[37m2025-10-19 22:20:08 - geo_tda.data_acquisition.weppcloud_client - INFO -    - Current status: RUNNING (Elapsed: 120s)\u001b[0m\n",
      "\u001b[37m2025-10-19 22:20:38 - geo_tda.data_acquisition.weppcloud_client - INFO -    - Current status: COMPLETED (Elapsed: 150s)\u001b[0m\n",
      "\u001b[37m2025-10-19 22:20:38 - geo_tda.data_acquisition.weppcloud_client - INFO - ✅ Job job_a132b5b48f7c completed successfully.\u001b[0m\n",
      "\u001b[37m2025-10-19 22:20:38 - geo_tda.data_acquisition.weppcloud_client - INFO - ⬇️ Preparing to download result for completed job: job_a132b5b48f7c\u001b[0m\n",
      "\u001b[37m2025-10-19 22:20:38 - geo_tda.data_acquisition.weppcloud_client - INFO -    - Retrieving result from simulated URL: https://planetarycomputer.microsoft.com/api/stac/v1/collections/3dep-10m/items/USGS_1_n45w094_20230315\u001b[0m\n",
      "\u001b[37m2025-10-19 22:20:38 - geo_tda.data_acquisition.download_core - INFO - ⬇️  Starting parallel download for 1 WEPPcloud Result files...\u001b[0m\n"
     ]
    },
    {
     "data": {
      "application/vnd.jupyter.widget-view+json": {
       "model_id": "a1f7a116560a4e258a7a5a450d705429",
       "version_major": 2,
       "version_minor": 0
      },
      "text/plain": [
       "WEPPcloud Result:   0%|          | 0/1 [00:00<?, ?file/s]"
      ]
     },
     "metadata": {},
     "output_type": "display_data"
    },
    {
     "name": "stdout",
     "output_type": "stream",
     "text": [
      "\u001b[31m2025-10-19 22:20:45 - geo_tda.data_acquisition.download_core - ERROR - Download failed for sediment_yield.tif: RetryError[<Future at 0x1e7f3059bd0 state=finished raised HTTPError>]\u001b[0m\n",
      "\u001b[37m2025-10-19 22:20:45 - geo_tda.data_acquisition.download_core - INFO - ======================================================================\u001b[0m\n",
      "\u001b[37m2025-10-19 22:20:45 - geo_tda.data_acquisition.download_core - INFO - Download Summary for WEPPcloud Result:\u001b[0m\n",
      "\u001b[37m2025-10-19 22:20:45 - geo_tda.data_acquisition.download_core - INFO -   Downloaded: 0\u001b[0m\n",
      "\u001b[37m2025-10-19 22:20:45 - geo_tda.data_acquisition.download_core - INFO -   Skipped:    0 (valid files already exist)\u001b[0m\n",
      "\u001b[37m2025-10-19 22:20:45 - geo_tda.data_acquisition.download_core - INFO -   Failed:     1 (includes validation failures)\u001b[0m\n",
      "\u001b[37m2025-10-19 22:20:45 - geo_tda.data_acquisition.download_core - INFO - ======================================================================\u001b[0m\n",
      "\u001b[31m2025-10-19 22:20:45 - geo_tda.data_acquisition.download_core - ERROR - --- Download Failures ---\u001b[0m\n",
      "\u001b[31m2025-10-19 22:20:45 - geo_tda.data_acquisition.download_core - ERROR -   - FAIL: sediment_yield.tif (RetryError[<Future at 0x1e7f3059bd0 state=finished raised HTTPError>])\u001b[0m\n",
      "\u001b[31m2025-10-19 22:20:45 - geo_tda.data_acquisition.weppcloud_client - ERROR - ❌ Failed to download result for job job_a132b5b48f7c.\u001b[0m\n"
     ]
    }
   ],
   "source": [
    "job_id = None\n",
    "job_successful = False\n",
    "final_raster_path = None\n",
    "\n",
    "try:\n",
    "    # --- Step 1: Submit Job ---\n",
    "    job_id = submit_weppcloud_job(\n",
    "        aoi_path=AOI_PATH,\n",
    "        project_name=W_CONFIG['project_name'],\n",
    "        simulation_years=W_CONFIG['simulation_years']\n",
    "    )\n",
    "\n",
    "    # --- Step 2: Monitor Status ---\n",
    "    if job_id:\n",
    "        # Using a shorter poll interval for this demonstration\n",
    "        job_successful = monitor_job_status(job_id, poll_interval_sec=30)\n",
    "    else:\n",
    "        raise RuntimeError(\"Failed to submit job; could not retrieve a valid Job ID.\")\n",
    "\n",
    "    # --- Step 3: Download Result ---\n",
    "    if job_successful:\n",
    "        final_raster_path = download_weppcloud_result(\n",
    "            job_id=job_id,\n",
    "            output_dir=OUTPUT_DIR\n",
    "        )\n",
    "    else:\n",
    "        log.error(\"WEPPcloud job did not complete successfully. Skipping result download.\")\n",
    "\n",
    "except Exception as e:\n",
    "    log.critical(f\"An unexpected error occurred during the workflow: {e}\", exc_info=True)"
   ]
  },
  {
   "cell_type": "markdown",
   "id": "c5d38916e1bd6747",
   "metadata": {},
   "source": [
    "### 3. Post-Flight Validation\n",
    "\n",
    "* **Verify File:** Check that the downloaded raster exists and is not empty.\n",
    "* **Check CRS and Extent:** Use `rasterio` to confirm that the output raster's projection and grid are consistent with the project's source DEM.\n",
    "* **Visualize:** Display the final raster on a map to confirm it covers the correct geographic area."
   ]
  },
  {
   "cell_type": "code",
   "execution_count": 3,
   "id": "ba4e17f15a17258d",
   "metadata": {
    "ExecuteTime": {
     "end_time": "2025-10-20T02:03:18.612397Z",
     "start_time": "2025-10-20T02:03:18.606254Z"
    }
   },
   "outputs": [
    {
     "name": "stdout",
     "output_type": "stream",
     "text": [
      "\u001b[37m2025-10-19 22:20:45 - 1.4_generate_target_variable - INFO - --- Workflow Complete: Final Status ---\u001b[0m\n",
      "\u001b[31m2025-10-19 22:20:45 - 1.4_generate_target_variable - ERROR - ❌ FAILURE: The workflow did not produce the final target raster.\u001b[0m\n",
      "\u001b[31m2025-10-19 22:20:45 - 1.4_generate_target_variable - ERROR - \t- Reason: The result download failed after a successful simulation.\u001b[0m\n"
     ]
    }
   ],
   "source": [
    "log.info(\"--- Workflow Complete: Final Status ---\")\n",
    "\n",
    "if final_raster_path and final_raster_path.exists():\n",
    "    log.info(f\"✅ SUCCESS: The target variable raster has been generated and saved to:\")\n",
    "    log.info(f\"   -> {final_raster_path}\")\n",
    "\n",
    "    # --- 1. Verify Raster Metadata ---\n",
    "    log.info(\"--- Verifying Raster Properties ---\")\n",
    "    try:\n",
    "        with rasterio.open(final_raster_path) as src:\n",
    "            log.info(f\"   - Raster CRS: {src.crs}\")\n",
    "            log.info(f\"   - Raster Dimensions: {src.width}x{src.height}\")\n",
    "            log.info(f\"   - Raster NoData Value: {src.nodata}\")\n",
    "            log.info(\"✅ Raster metadata is readable and valid.\")\n",
    "    except Exception as e:\n",
    "        log.error(f\"❌ Failed to read raster metadata: {e}\")\n",
    "\n",
    "    # --- 2. Visualize the Final Output ---\n",
    "    log.info(\"--- Generating Final Visualization ---\")\n",
    "\n",
    "    # Load the study area boundary for the plot\n",
    "    aoi_gdf = gpd.read_file(AOI_PATH)\n",
    "\n",
    "    fig, ax = plt.subplots(figsize=(12, 12), dpi=150)\n",
    "\n",
    "    plot_raster_with_boundary(\n",
    "        raster_path=final_raster_path,\n",
    "        boundary_gdf=aoi_gdf,\n",
    "        ax=ax,\n",
    "        cmap='viridis',\n",
    "        title=\"WEPPcloud Average Annual Sediment Yield\"\n",
    "    )\n",
    "\n",
    "    # Save the figure to the reports directory\n",
    "    REPORTS_DIR = PROJECT_ROOT / config['project_paths']['reports']\n",
    "    figure_path = REPORTS_DIR / \"weppcloud_sediment_yield_map.png\"\n",
    "    fig.savefig(figure_path, dpi=300, bbox_inches='tight', pad_inches=0.1)\n",
    "    log.info(f\"✅ Final map saved to: {figure_path}\")\n",
    "\n",
    "    plt.show()\n",
    "\n",
    "else:\n",
    "    log.error(\"❌ FAILURE: The workflow did not produce the final target raster.\")\n",
    "    if not job_successful:\n",
    "        log.error(\"\\t- Reason: The WEPPcloud simulation failed or was cancelled.\")\n",
    "    else:\n",
    "        log.error(\"\\t- Reason: The result download failed after a successful simulation.\")"
   ]
  }
 ],
 "metadata": {
  "kernelspec": {
   "display_name": "multiscale_tda_geomorphology",
   "language": "python",
   "name": "python3"
  },
  "language_info": {
   "codemirror_mode": {
    "name": "ipython",
    "version": 3
   },
   "file_extension": ".py",
   "mimetype": "text/x-python",
   "name": "python",
   "nbconvert_exporter": "python",
   "pygments_lexer": "ipython3",
   "version": "3.13.7"
  }
 },
 "nbformat": 4,
 "nbformat_minor": 5
}
