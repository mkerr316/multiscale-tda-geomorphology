{
 "cells": [
  {
   "metadata": {},
   "cell_type": "markdown",
   "source": [
    "# Perform A Priori Power Analysis\n",
    "- Metric: Use a specified effect size metric (e.g., MANOVA Pillai’s trace).\n",
    "- Variance: Use covariate-adjusted variance estimates to calculate the required sample size (N).\n",
    "- Contingency: Define a contingency plan if the pilot effect size is smaller than expected."
   ],
   "id": "58caba6abfb119ad"
  },
  {
   "metadata": {
    "collapsed": true
   },
   "cell_type": "code",
   "outputs": [],
   "execution_count": null,
   "source": "",
   "id": "a3b5948ef398f3be"
  }
 ],
 "metadata": {
  "kernelspec": {
   "display_name": "Python 3",
   "language": "python",
   "name": "python3"
  },
  "language_info": {
   "codemirror_mode": {
    "name": "ipython",
    "version": 2
   },
   "file_extension": ".py",
   "mimetype": "text/x-python",
   "name": "python",
   "nbconvert_exporter": "python",
   "pygments_lexer": "ipython2",
   "version": "2.7.6"
  }
 },
 "nbformat": 4,
 "nbformat_minor": 5
}
