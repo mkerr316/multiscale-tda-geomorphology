{
 "cells": [
  {
   "cell_type": "code",
   "execution_count": null,
   "id": "5b7839ca16115f69",
   "metadata": {
    "ExecuteTime": {
     "end_time": "2025-10-22T18:16:45.689108Z",
     "start_time": "2025-10-22T18:16:45.646657Z"
    }
   },
   "outputs": [
    {
     "ename": "",
     "evalue": "",
     "output_type": "error",
     "traceback": [
      "\u001b[1;31mThe kernel failed to start as the Python Environment 'geo_tda (Python -1.-1.-1)' is no longer available. Consider selecting another kernel or refreshing the list of Python Environments."
     ]
    }
   ],
   "source": [
    "import rioxarray as rxr\n",
    "from pprint import pprint\n",
    "import numpy as np\n",
    "import gudhi"
   ]
  },
  {
   "cell_type": "code",
   "execution_count": 5,
   "id": "cb22ebf0f91ae26",
   "metadata": {
    "ExecuteTime": {
     "end_time": "2025-10-22T18:17:54.473634Z",
     "start_time": "2025-10-22T18:17:52.843712Z"
    }
   },
   "outputs": [
    {
     "name": "stdout",
     "output_type": "stream",
     "text": [
      "The shape of the DEM DataArray is: (10812, 10812)\n",
      "The CRS of the DEM is: EPSG:4269\n",
      "------------------------------\n",
      "Basic Statistics:\n",
      "Min value: -999999.00\n",
      "Max value: 16.58\n",
      "Mean value: -1109.57\n",
      "------------------------------\n",
      "The underlying data type is: <class 'numpy.ndarray'>\n"
     ]
    }
   ],
   "source": [
    "\n",
    "# Define the path to the DEM file.\n",
    "# This path is relative to the location of the notebook.\n",
    "dem_path = r\"D:\\OneDrive - University of Georgia\\multiscale_tda_geomorphology\\data\\raw\\dem_30m\\USGS_1_n25w081.tif\"\n",
    "\n",
    "# Open the DEM file using rioxarray.\n",
    "# This loads the data and metadata into a powerful xarray.DataArray object.\n",
    "# We use .squeeze() to remove the 'band' dimension since it's a single-band raster.\n",
    "try:\n",
    "    dem_da = rxr.open_rasterio(dem_path).squeeze()\n",
    "\n",
    "    # Print the shape and CRS to confirm it loaded correctly.\n",
    "    print(f\"The shape of the DEM DataArray is: {dem_da.shape}\")\n",
    "    print(f\"The CRS of the DEM is: {dem_da.rio.crs}\")\n",
    "    print(\"-\" * 30)\n",
    "\n",
    "    # Now you can work with `dem_da` directly.\n",
    "    # xarray DataArrays have built-in methods for calculations, which are often\n",
    "    # aware of 'no data' values. We use .item() to extract the scalar value.\n",
    "    print(\"Basic Statistics:\")\n",
    "    print(f\"Min value: {dem_da.min().item():.2f}\")\n",
    "    print(f\"Max value: {dem_da.max().item():.2f}\")\n",
    "    print(f\"Mean value: {dem_da.mean().item():.2f}\")\n",
    "    print(\"-\" * 30)\n",
    "\n",
    "    # If you ever need the raw NumPy array for a library that requires it,\n",
    "    # you can access it with the .values attribute.\n",
    "    dem_numpy_array = dem_da.values\n",
    "    print(f\"The underlying data type is: {type(dem_numpy_array)}\")\n",
    "\n",
    "except Exception as e:\n",
    "    raise Exception(e)"
   ]
  },
  {
   "cell_type": "code",
   "execution_count": 6,
   "id": "d599ae833b5990cf",
   "metadata": {
    "ExecuteTime": {
     "end_time": "2025-10-22T18:17:57.031834Z",
     "start_time": "2025-10-22T18:17:56.819812Z"
    }
   },
   "outputs": [
    {
     "name": "stdout",
     "output_type": "stream",
     "text": [
      "array([[1, 1, 1, ..., 0, 0, 0],\n",
      "       [1, 1, 1, ..., 0, 0, 0],\n",
      "       [1, 1, 1, ..., 0, 0, 0],\n",
      "       ...,\n",
      "       [0, 0, 0, ..., 0, 0, 0],\n",
      "       [0, 0, 0, ..., 0, 0, 0],\n",
      "       [0, 0, 0, ..., 0, 0, 0]], shape=(10812, 10812))\n"
     ]
    }
   ],
   "source": [
    "pprint((dem_numpy_array > -3313).astype(int))"
   ]
  },
  {
   "cell_type": "code",
   "execution_count": 8,
   "id": "f0f70f1a5d2e980d",
   "metadata": {
    "ExecuteTime": {
     "end_time": "2025-10-22T18:18:56.080453Z",
     "start_time": "2025-10-22T18:18:44.133176Z"
    }
   },
   "outputs": [
    {
     "data": {
      "text/plain": [
       "<matplotlib.image.AxesImage at 0x2658041af90>"
      ]
     },
     "execution_count": 8,
     "metadata": {},
     "output_type": "execute_result"
    },
    {
     "data": {
      "image/png": "[encoded data removed]",
      "text/plain": [
       "<Figure size 640x480 with 1 Axes>"
      ]
     },
     "metadata": {},
     "output_type": "display_data"
    }
   ],
   "source": [
    "import matplotlib.pyplot as plt\n",
    "\n",
    "np_array = (dem_numpy_array > 1545.41).astype(int)\n",
    "\n",
    "fig, ax = plt.subplots()\n",
    "plt.imshow(-1*np_array, cmap=\"gray\")"
   ]
  },
  {
   "cell_type": "code",
   "execution_count": 9,
   "id": "c00222b4",
   "metadata": {
    "ExecuteTime": {
     "end_time": "2025-10-22T18:19:00.004321Z",
     "start_time": "2025-10-22T18:18:59.997465Z"
    }
   },
   "outputs": [],
   "source": [
    "import gudhi\n",
    "\n",
    "def __heightMatrix(self, angle: float, size: int) -> np.ndarray:\n",
    "        heightMatrix = np.zeros((size, size), np.float32)\n",
    "        step = self.scale/size\n",
    "        for i in range(size):\n",
    "            for j in range(size):\n",
    "                heightMatrix[i, j] = float(np.cos(angle)*((size-i)*step+ -1) + np.sin(angle)*((j)*step -1))\n",
    "        return heightMatrix\n",
    "\n",
    "def detect(self, image: np.ndarray, size: int, alpha: float = 0.5) -> tuple:\n",
    "    pers_imager = pimg(pixel_size=.1,birth_range=(-np.sqrt(2)-.01,np.sqrt(2)+.01))\n",
    "    H0_Block = []\n",
    "    H1_Block = []\n",
    "    for direction in self.directions:\n",
    "        heightMatrix = self.__heightMatrix(direction, size)\n",
    "        Image = np.round((image > alpha)).reshape((size,size))\n",
    "        heightImgMatrix = Image * heightMatrix\n",
    "        heightImgMatrix[heightImgMatrix == 0] = float('inf')\n",
    "        Complex = gudhi.CubicalComplex(top_dimensional_cells=heightImgMatrix)\n",
    "        Complex.persistence()\n",
    "        D0 = Complex.persistence_intervals_in_dimension(0)\n",
    "        D1 = Complex.persistence_intervals_in_dimension(1)\n",
    "        D0[D0 == float('inf')] = self.scale*np.sqrt(2)+.01\n",
    "        D1[D1 == float('inf')] = self.scale*np.sqrt(2)+.01\n",
    "        pers_img_0 = pers_imager.transform(D0)\n",
    "        pers_img_1 = pers_imager.transform(D1)\n",
    "        H0_Block.append(pers_img_0.reshape(pers_img_0.shape[0]*pers_img_0.shape[1],))\n",
    "        H1_Block.append(pers_img_1.reshape(pers_img_0.shape[0]*pers_img_0.shape[1],))\n",
    "    return (H0_Block, H1_Block)"
   ]
  }
 ],
 "metadata": {
  "kernelspec": {
   "display_name": "geo_tda",
   "language": "python",
   "name": "python3"
  },
  "language_info": {
   "codemirror_mode": {
    "name": "ipython",
    "version": 3
   },
   "file_extension": ".py",
   "mimetype": "text/x-python",
   "name": "python",
   "nbconvert_exporter": "python",
   "pygments_lexer": "ipython3",
   "version": "undefined.undefined.undefined"
  }
 },
 "nbformat": 4,
 "nbformat_minor": 5
}
