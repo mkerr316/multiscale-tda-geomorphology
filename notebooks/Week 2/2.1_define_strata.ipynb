{
 "cells": [
  {
   "metadata": {},
   "cell_type": "markdown",
   "source": [
    "# Define Strata\n",
    "Generate three equal-area elevation strata (Low, Medium, High) for each province."
   ],
   "id": "d9c7256c536bfa94"
  },
  {
   "metadata": {
    "collapsed": true,
    "ExecuteTime": {
     "end_time": "2025-09-21T22:35:00.577947Z",
     "start_time": "2025-09-21T22:34:59.842774Z"
    }
   },
   "cell_type": "code",
   "source": [
    "import geopandas as gpd\n",
    "import pandas as pd\n",
    "import numpy as np\n",
    "import rasterio\n",
    "from shapely.geometry import Point\n",
    "from rasterio.session import AWSSession"
   ],
   "id": "10862e5cdd6916e6",
   "outputs": [],
   "execution_count": 1
  },
  {
   "metadata": {
    "ExecuteTime": {
     "end_time": "2025-09-21T22:41:54.372420Z",
     "start_time": "2025-09-21T22:41:54.369568Z"
    }
   },
   "cell_type": "code",
   "source": [
    "PROVINCES_SHP = r\"../../data/raw/boundaries/study_provinces.shp\"\n",
    "EQUAL_AREA_CRS = \"EPSG:5070\"\n",
    "N_SAMPLE_POINTS_PER_PROVINCE = 10000\n",
    "DEM_COG_URL = \"https://elevation.s3.amazonaws.com/s3.xml\" # Public COG VRT for the USGS 3DEP 10m DEM"
   ],
   "id": "73cc214d09ea26cf",
   "outputs": [],
   "execution_count": 11
  },
  {
   "metadata": {
    "ExecuteTime": {
     "end_time": "2025-09-21T22:41:55.518489Z",
     "start_time": "2025-09-21T22:41:55.514422Z"
    }
   },
   "cell_type": "code",
   "source": [
    "def generate_random_points_in_polygon(polygon, n_points):\n",
    "    \"\"\"Generates N spatially random points within a Shapely polygon.\"\"\"\n",
    "    min_x, min_y, max_x, max_y = polygon.bounds\n",
    "    points = []\n",
    "    while len(points) < n_points:\n",
    "        random_point = Point(np.random.uniform(min_x, max_x),\n",
    "                             np.random.uniform(min_y, max_y))\n",
    "        if polygon.contains(random_point):\n",
    "            points.append(random_point)\n",
    "    return points\n",
    "\n",
    "def get_elevation_from_cog(points_gdf, dem_url):\n",
    "    \"\"\"\n",
    "    Queries elevation for points from a cloud-hosted DEM.\n",
    "\n",
    "    Args:\n",
    "        points_gdf (GeoDataFrame): GeoDataFrame of points in the same CRS as the DEM.\n",
    "        dem_url (str): URL to the DEM (VRT for a mosaic is ideal).\n",
    "\n",
    "    Returns:\n",
    "        list: A list of elevation values.\n",
    "    \"\"\"\n",
    "    # Using AWS Public Dataset - no credentials needed for this dataset\n",
    "    aws_session = AWSSession(aws_access_key_id=None, aws_secret_access_key=None, region_name='us-east-1')\n",
    "\n",
    "    elevations = []\n",
    "    with rasterio.Env(rasterio_session=aws_session):\n",
    "        with rasterio.open(dem_url) as src:\n",
    "            # Ensure points are in the DEM's CRS\n",
    "            points_dem_crs = points_gdf.to_crs(src.crs)\n",
    "            coords = [(p.x, p.y) for p in points_dem_crs.geometry]\n",
    "\n",
    "            # Use src.sample to efficiently query point values\n",
    "            print(f\"Querying elevations for {len(coords)} points...\")\n",
    "            for val in src.sample(coords):\n",
    "                # val is a numpy array (e.g., [123.45])\n",
    "                elevations.append(val[0])\n",
    "\n",
    "    return elevations"
   ],
   "id": "1fc277b9ee1bed04",
   "outputs": [],
   "execution_count": 12
  },
  {
   "metadata": {
    "ExecuteTime": {
     "end_time": "2025-09-21T22:41:57.296577Z",
     "start_time": "2025-09-21T22:41:57.284654Z"
    }
   },
   "cell_type": "code",
   "source": [
    "# 1. Load province polygons\n",
    "provinces = gpd.read_file(PROVINCES_SHP)\n",
    "assert not provinces.empty, \"No provinces loaded.\"\n",
    "if provinces.crs is None:\n",
    "    raise ValueError(\"Provinces shapefile has no CRS. Assign it before proceeding.\")\n",
    "provinces_eq = provinces.to_crs(EQUAL_AREA_CRS)\n",
    "print(f\"Loaded {len(provinces_eq)} provinces.\")"
   ],
   "id": "940421974e46be4a",
   "outputs": [
    {
     "name": "stdout",
     "output_type": "stream",
     "text": [
      "Loaded 6 provinces.\n"
     ]
    }
   ],
   "execution_count": 13
  },
  {
   "metadata": {
    "ExecuteTime": {
     "end_time": "2025-09-21T22:45:51.821756Z",
     "start_time": "2025-09-21T22:41:58.672276Z"
    }
   },
   "cell_type": "code",
   "source": [
    "# 2. Iterate through each province to find its elevation strata\n",
    "strata_definitions = {}\n",
    "for index, province in provinces_eq.iterrows():\n",
    "    province_name = province['PROVINCE']\n",
    "    print(f\"\\n--- Processing: {province_name} ---\")\n",
    "\n",
    "    # Generate random points for sampling the elevation distribution\n",
    "    sample_points = generate_random_points_in_polygon(province.geometry, N_SAMPLE_POINTS_PER_PROVINCE)\n",
    "    points_gdf = gpd.GeoDataFrame(geometry=sample_points, crs=EQUAL_AREA_CRS)\n",
    "\n",
    "    # Get elevation for each point from the cloud\n",
    "    elevation_values = get_elevation_from_cog(points_gdf, DEM_COG_URL)\n",
    "\n",
    "    # Remove any NoData values if they exist (e.g., points in water bodies)\n",
    "    valid_elevations = [e for e in elevation_values if e > -9999] # Check DEM's NoData value\n",
    "\n",
    "    if len(valid_elevations) < 100:\n",
    "        print(f\"Warning: Very few valid elevation points found for {province_name}.\")\n",
    "        continue\n",
    "\n",
    "    # Calculate the 33.3rd and 66.7th percentiles for equal-area strata\n",
    "    z33 = np.quantile(valid_elevations, 0.333)\n",
    "    z66 = np.quantile(valid_elevations, 0.667)\n",
    "\n",
    "    strata_definitions[province_name] = {\n",
    "        'z33': z33,\n",
    "        'z66': z66,\n",
    "        'strata_low': f\"elev < {z33:.2f}\",\n",
    "        'strata_medium': f\"{z33:.2f} <= elev < {z66:.2f}\",\n",
    "        'strata_high': f\"elev >= {z66:.2f}\",\n",
    "        'num_samples': len(valid_elevations)\n",
    "    }"
   ],
   "id": "d35e79a0135ca6f9",
   "outputs": [
    {
     "name": "stdout",
     "output_type": "stream",
     "text": [
      "\n",
      "--- Processing: COASTAL PLAIN ---\n"
     ]
    },
    {
     "ename": "AttributeError",
     "evalue": "'NoneType' object has no attribute 'Session'",
     "output_type": "error",
     "traceback": [
      "\u001B[31m---------------------------------------------------------------------------\u001B[39m",
      "\u001B[31mAttributeError\u001B[39m                            Traceback (most recent call last)",
      "\u001B[36mCell\u001B[39m\u001B[36m \u001B[39m\u001B[32mIn[14]\u001B[39m\u001B[32m, line 12\u001B[39m\n\u001B[32m      9\u001B[39m points_gdf = gpd.GeoDataFrame(geometry=sample_points, crs=EQUAL_AREA_CRS)\n\u001B[32m     11\u001B[39m \u001B[38;5;66;03m# Get elevation for each point from the cloud\u001B[39;00m\n\u001B[32m---> \u001B[39m\u001B[32m12\u001B[39m elevation_values = \u001B[43mget_elevation_from_cog\u001B[49m\u001B[43m(\u001B[49m\u001B[43mpoints_gdf\u001B[49m\u001B[43m,\u001B[49m\u001B[43m \u001B[49m\u001B[43mDEM_COG_URL\u001B[49m\u001B[43m)\u001B[49m\n\u001B[32m     14\u001B[39m \u001B[38;5;66;03m# Remove any NoData values if they exist (e.g., points in water bodies)\u001B[39;00m\n\u001B[32m     15\u001B[39m valid_elevations = [e \u001B[38;5;28;01mfor\u001B[39;00m e \u001B[38;5;129;01min\u001B[39;00m elevation_values \u001B[38;5;28;01mif\u001B[39;00m e > -\u001B[32m9999\u001B[39m] \u001B[38;5;66;03m# Check DEM's NoData value\u001B[39;00m\n",
      "\u001B[36mCell\u001B[39m\u001B[36m \u001B[39m\u001B[32mIn[12]\u001B[39m\u001B[32m, line 24\u001B[39m, in \u001B[36mget_elevation_from_cog\u001B[39m\u001B[34m(points_gdf, dem_url)\u001B[39m\n\u001B[32m     13\u001B[39m \u001B[38;5;250m\u001B[39m\u001B[33;03m\"\"\"\u001B[39;00m\n\u001B[32m     14\u001B[39m \u001B[33;03mQueries elevation for points from a cloud-hosted DEM.\u001B[39;00m\n\u001B[32m     15\u001B[39m \n\u001B[32m   (...)\u001B[39m\u001B[32m     21\u001B[39m \u001B[33;03m    list: A list of elevation values.\u001B[39;00m\n\u001B[32m     22\u001B[39m \u001B[33;03m\"\"\"\u001B[39;00m\n\u001B[32m     23\u001B[39m \u001B[38;5;66;03m# Using AWS Public Dataset - no credentials needed for this dataset\u001B[39;00m\n\u001B[32m---> \u001B[39m\u001B[32m24\u001B[39m aws_session = \u001B[43mAWSSession\u001B[49m\u001B[43m(\u001B[49m\u001B[43maws_access_key_id\u001B[49m\u001B[43m=\u001B[49m\u001B[38;5;28;43;01mNone\u001B[39;49;00m\u001B[43m,\u001B[49m\u001B[43m \u001B[49m\u001B[43maws_secret_access_key\u001B[49m\u001B[43m=\u001B[49m\u001B[38;5;28;43;01mNone\u001B[39;49;00m\u001B[43m,\u001B[49m\u001B[43m \u001B[49m\u001B[43mregion_name\u001B[49m\u001B[43m=\u001B[49m\u001B[33;43m'\u001B[39;49m\u001B[33;43mus-east-1\u001B[39;49m\u001B[33;43m'\u001B[39;49m\u001B[43m)\u001B[49m\n\u001B[32m     26\u001B[39m elevations = []\n\u001B[32m     27\u001B[39m \u001B[38;5;28;01mwith\u001B[39;00m rasterio.Env(rasterio_session=aws_session):\n",
      "\u001B[36mFile \u001B[39m\u001B[32m~\\anaconda3\\envs\\multiscale_tda_geomorphology\\Lib\\site-packages\\rasterio\\session.py:283\u001B[39m, in \u001B[36mAWSSession.__init__\u001B[39m\u001B[34m(self, session, aws_unsigned, aws_access_key_id, aws_secret_access_key, aws_session_token, region_name, profile_name, endpoint_url, requester_pays)\u001B[39m\n\u001B[32m    281\u001B[39m     \u001B[38;5;28mself\u001B[39m._session = SimpleNamespace(region_name=region_name)\n\u001B[32m    282\u001B[39m \u001B[38;5;28;01melse\u001B[39;00m:\n\u001B[32m--> \u001B[39m\u001B[32m283\u001B[39m     \u001B[38;5;28mself\u001B[39m._session = \u001B[43mboto3\u001B[49m\u001B[43m.\u001B[49m\u001B[43mSession\u001B[49m(\n\u001B[32m    284\u001B[39m         aws_access_key_id=aws_access_key_id,\n\u001B[32m    285\u001B[39m         aws_secret_access_key=aws_secret_access_key,\n\u001B[32m    286\u001B[39m         aws_session_token=aws_session_token,\n\u001B[32m    287\u001B[39m         region_name=region_name,\n\u001B[32m    288\u001B[39m         profile_name=profile_name)\n\u001B[32m    290\u001B[39m \u001B[38;5;28mself\u001B[39m.requester_pays = requester_pays\n\u001B[32m    291\u001B[39m \u001B[38;5;28mself\u001B[39m.unsigned = aws_unsigned\n",
      "\u001B[31mAttributeError\u001B[39m: 'NoneType' object has no attribute 'Session'"
     ]
    }
   ],
   "execution_count": 14
  },
  {
   "metadata": {},
   "cell_type": "code",
   "outputs": [],
   "execution_count": null,
   "source": [
    "# 3. Display the final strata definitions\n",
    "strata_df = pd.DataFrame.from_dict(strata_definitions, orient='index')\n",
    "print(\"\\n=== Final Equal-Area Strata Definitions ===\")\n",
    "print(strata_df)"
   ],
   "id": "9c0eaa40cd6d8f45"
  }
 ],
 "metadata": {
  "kernelspec": {
   "display_name": "Python 3",
   "language": "python",
   "name": "python3"
  },
  "language_info": {
   "codemirror_mode": {
    "name": "ipython",
    "version": 2
   },
   "file_extension": ".py",
   "mimetype": "text/x-python",
   "name": "python",
   "nbconvert_exporter": "python",
   "pygments_lexer": "ipython2",
   "version": "2.7.6"
  }
 },
 "nbformat": 4,
 "nbformat_minor": 5
}
