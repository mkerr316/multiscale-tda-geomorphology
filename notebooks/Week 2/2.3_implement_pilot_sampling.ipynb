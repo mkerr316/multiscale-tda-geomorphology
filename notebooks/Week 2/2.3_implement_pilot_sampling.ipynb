{
 "cells": [
  {
   "metadata": {},
   "cell_type": "markdown",
   "source": [
    "# Implement Pilot Sampling\n",
    "Generate 10-15 pilot locations per stratum (Total N=180-270) using a simple spatially balanced sample (GRTS)."
   ],
   "id": "40b2037cdb576bb9"
  }
 ],
 "metadata": {
  "kernelspec": {
   "display_name": "Python 3",
   "language": "python",
   "name": "python3"
  },
  "language_info": {
   "codemirror_mode": {
    "name": "ipython",
    "version": 2
   },
   "file_extension": ".py",
   "mimetype": "text/x-python",
   "name": "python",
   "nbconvert_exporter": "python",
   "pygments_lexer": "ipython2",
   "version": "2.7.6"
  }
 },
 "nbformat": 4,
 "nbformat_minor": 5
}
