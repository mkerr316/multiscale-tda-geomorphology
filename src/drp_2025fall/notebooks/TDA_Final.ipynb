{
  "cells": [
    {
      "cell_type": "code",
      "execution_count": 4,
      "id": "15fc8f9fd55ab2b7",
      "metadata": {
        "id": "15fc8f9fd55ab2b7"
      },
      "outputs": [],
      "source": [
        "import numpy as np\n",
        "import json\n",
        "import scipy\n",
        "from scipy.spatial import distance_matrix\n",
        "from sklearn.linear_model import LogisticRegression\n",
        "import random\n",
        "import torchvision"
      ]
    },
    {
      "cell_type": "code",
      "execution_count": null,
      "id": "3e6f7a14",
      "metadata": {},
      "outputs": [],
      "source": [
        "#%pip install gudhi"
      ]
    },
    {
      "cell_type": "code",
      "execution_count": null,
      "id": "be63e666ae445ef3",
      "metadata": {
        "colab": {
          "base_uri": "https://localhost:8080/"
        },
        "id": "be63e666ae445ef3",
        "outputId": "5e54a23b-ff60-4bd2-be98-072c6883684b"
      },
      "outputs": [
        {
          "name": "stdout",
          "output_type": "stream",
          "text": [
            "Requirement already satisfied: gudhi in /opt/conda/envs/app/lib/python3.11/site-packages (3.11.0)\n",
            "Requirement already satisfied: numpy>=1.15.0 in /opt/conda/envs/app/lib/python3.11/site-packages (from gudhi) (2.3.4)\n"
          ]
        }
      ],
      "source": [
        "import matplotlib.pyplot as plt\n",
        "import torchvision.datasets as datasets\n",
        "import torchvision.transforms as transforms\n",
        "import gudhi"
      ]
    },
    {
      "cell_type": "code",
      "execution_count": null,
      "id": "initial_id",
      "metadata": {
        "collapsed": true,
        "id": "initial_id"
      },
      "outputs": [],
      "source": [
        "def kwargValidation(cls: str, func : str, **kwargs):\n",
        "        with open('/kwargsVerification.JSON', 'r') as file:\n",
        "            verification = json.load(file)\n",
        "            funcVer = verification[cls][func]\n",
        "            for key in funcVer[\"Variables\"]:\n",
        "                if key in kwargs.keys():\n",
        "                    if str(type(kwargs[key])) != funcVer[\"Types\"][key]:\n",
        "                        raise Exception(\"The given %s variable is not of the correct type\" %key)\n",
        "                    else:\n",
        "                        valList = [eval(condition) for condition in funcVer[\"Validation\"][key]]\n",
        "                        valList = [condition(kwargs[key]) for condition in valList]\n",
        "                        if not all(valList):\n",
        "                            raise Exception(\"The given %s variable does not satisfy the condition for this variable\" %key)\n",
        "                else:\n",
        "                    try:\n",
        "                        kwargs[key] = eval(funcVer[\"Default\"][key])(kwargs)\n",
        "                    except Exception as e:\n",
        "                        print(e)\n",
        "                        kwargs[key] = funcVer[\"Default\"][key]\n",
        "\n",
        "\n",
        "        return kwargs"
      ]
    },
    {
      "cell_type": "markdown",
      "id": "91a19042815286fb",
      "metadata": {
        "id": "91a19042815286fb"
      },
      "source": [
        "# The Model"
      ]
    },
    {
      "cell_type": "code",
      "execution_count": 7,
      "id": "71519203fb88a579",
      "metadata": {
        "colab": {
          "base_uri": "https://localhost:8080/"
        },
        "id": "71519203fb88a579",
        "outputId": "aa86cdc2-e76f-40c2-cc6e-35378b0de6a6"
      },
      "outputs": [],
      "source": [
        "#%pip install persim"
      ]
    },
    {
      "cell_type": "code",
      "execution_count": null,
      "id": "5f485094",
      "metadata": {},
      "outputs": [],
      "source": [
        "from persim import PersistenceImager as pimg\n",
        "class TopologicalFeatures_Detection:\n",
        "    def __init__(self, **kwargs):\n",
        "        kwargs = kwargValidation(self.__class__.__name__,\"init\", **kwargs)\n",
        "        for key, value in kwargs.items():\n",
        "            setattr(self, key, value)\n",
        "        return\n",
        "\n",
        "    def __heightMatrix(self, angle: float, size: int) -> np.ndarray:\n",
        "        heightMatrix = np.zeros((size, size), np.float32)\n",
        "        step = self.scale/size\n",
        "        for i in range(size):\n",
        "            for j in range(size):\n",
        "                heightMatrix[i, j] = float(np.cos(angle)*((size-i)*step+ -1) + np.sin(angle)*((j)*step -1))\n",
        "        return heightMatrix\n",
        "\n",
        "    def detect(self, image: np.ndarray, size: int, alpha: float = 0.5) -> tuple:\n",
        "        pers_imager = pimg(pixel_size=.1,birth_range=(-np.sqrt(2)-.01,np.sqrt(2)+.01))\n",
        "        H0_Block = []\n",
        "        H1_Block = []\n",
        "        for direction in self.directions:\n",
        "            heightMatrix = self.__heightMatrix(direction, size)\n",
        "            Image = np.round((image > alpha)).reshape((size,size))\n",
        "            heightImgMatrix = Image * heightMatrix\n",
        "            heightImgMatrix[heightImgMatrix == 0] = float('inf')\n",
        "            Complex = gudhi.CubicalComplex(top_dimensional_cells=heightImgMatrix)\n",
        "            Complex.persistence()\n",
        "            D0 = Complex.persistence_intervals_in_dimension(0)\n",
        "            D1 = Complex.persistence_intervals_in_dimension(1)\n",
        "            D0[D0 == float('inf')] = self.scale*np.sqrt(2)+.01\n",
        "            D1[D1 == float('inf')] = self.scale*np.sqrt(2)+.01\n",
        "            pers_img_0 = pers_imager.transform(D0)\n",
        "            pers_img_1 = pers_imager.transform(D1)\n",
        "            H0_Block.append(pers_img_0.reshape(pers_img_0.shape[0]*pers_img_0.shape[1],))\n",
        "            H1_Block.append(pers_img_1.reshape(pers_img_0.shape[0]*pers_img_0.shape[1],))\n",
        "        return (H0_Block, H1_Block)\n",
        "\n",
        "    def matching(self, SensedtopInformation, RefTopInformation) -> list:\n",
        "        cycles = [[(i+j) % self.numOfDirections for i in range(self.numOfDirections)] for j in range(self.numOfDirections)]\n",
        "        probs = []\n",
        "        for ref in RefTopInformation:\n",
        "            D0 = distance_matrix(ref[0],SensedtopInformation[0])\n",
        "            D1 = distance_matrix(ref[1],SensedtopInformation[1])\n",
        "            BestCycle = None\n",
        "            currentMin = float('inf')\n",
        "            for cycle in cycles:\n",
        "                score = sum(D0[[i for i in range(self.numOfDirections)],cycle]*D0[[i for i in range(self.numOfDirections)],cycle])+sum(D1[[i for i in range(self.numOfDirections)],cycle]*D1[[i for i in range(self.numOfDirections)],cycle])/(2*self.numOfDirections)\n",
        "                if score < currentMin:\n",
        "                    BestCycle = cycle\n",
        "                    currentMin = score\n",
        "            probs.append([currentMin,BestCycle])\n",
        "        return probs\n",
        "\n",
        "    def train(self, training_dataset, training_label, RefTopInformation, size) -> None:\n",
        "        TopInfo = list(map(lambda x: self.detect(x,size),training_dataset))\n",
        "        matchingProbs = list(map(lambda x: self.matching(x,RefTopInformation), TopInfo))\n",
        "        model = LogisticRegression(multi_class='multinomial', solver='lbfgs')\n",
        "        model.fit(matchingProbs, training_label)\n",
        "        self.model = model\n",
        "        return\n",
        "\n",
        "    def evaluate(self, test_dataset, test_label, RefTopInformation, size) -> None:\n",
        "        TopInfo = list(map(lambda x: self.detect(x,size),test_dataset))\n",
        "        matchingProbs = list(map(lambda x: self.matching(x,RefTopInformation), TopInfo))\n",
        "        print(self.model.score(matchingProbs, test_label))\n",
        "        return\n"
      ]
    },
    {
      "cell_type": "markdown",
      "id": "f5c9e8716b5ecc16",
      "metadata": {
        "id": "f5c9e8716b5ecc16"
      },
      "source": [
        "# Step One: Feature Detection\n",
        "In this step we want to detect topological feature by \"scanning\" the image in different direction. We do this by considering a height function h<sub>v<sub>i</sub></sub>(x) = v<sub>i</sub> $\\cdot$ x for i = 1,...,N. Each i will produce a persistence diagram and hence a persistence image (i.e a vector) summerizing the topological features in that direction."
      ]
    },
    {
      "cell_type": "code",
      "execution_count": null,
      "id": "dc19f3c80767c9a7",
      "metadata": {
        "colab": {
          "base_uri": "https://localhost:8080/"
        },
        "id": "dc19f3c80767c9a7",
        "outputId": "637f2639-b9af-4875-b713-0aad33d9d50e"
      },
      "outputs": [
        {
          "name": "stderr",
          "output_type": "stream",
          "text": [
            "100%|██████████| 9.91M/9.91M [00:01<00:00, 5.78MB/s]\n",
            "100%|██████████| 28.9k/28.9k [00:00<00:00, 155kB/s]\n",
            "100%|██████████| 1.65M/1.65M [00:01<00:00, 1.45MB/s]\n",
            "100%|██████████| 4.54k/4.54k [00:00<00:00, 4.77MB/s]\n"
          ]
        }
      ],
      "source": [
        "# Download and transform the MNIST dataset\n",
        "transform = transforms.Compose([\n",
        "    # Convert images to PyTorch tensors which also scales data from [0,255] to [0,1]\n",
        "    transforms.ToTensor()\n",
        "])\n",
        "\n",
        "# Download training and test datasets\n",
        "train_dataset = datasets.MNIST(root='./data', train=True, download=True, transform=transform)\n",
        "test_dataset = datasets.MNIST(root='./data', train=False, download=True, transform=transform)"
      ]
    },
    {
      "cell_type": "code",
      "execution_count": 8,
      "id": "568ee786d40f6511",
      "metadata": {
        "colab": {
          "base_uri": "https://localhost:8080/",
          "height": 520
        },
        "id": "568ee786d40f6511",
        "outputId": "65da9c2a-3eaf-4273-b842-dc0c52118a2c"
      },
      "outputs": [
        {
          "name": "stdout",
          "output_type": "stream",
          "text": [
            "Collecting opencv-python\n",
            "  Downloading opencv_python-4.12.0.88-cp37-abi3-manylinux2014_x86_64.manylinux_2_17_x86_64.whl.metadata (19 kB)\n",
            "Collecting numpy<2.3.0,>=2 (from opencv-python)\n",
            "  Downloading numpy-2.2.6-cp311-cp311-manylinux_2_17_x86_64.manylinux2014_x86_64.whl.metadata (62 kB)\n",
            "Downloading opencv_python-4.12.0.88-cp37-abi3-manylinux2014_x86_64.manylinux_2_17_x86_64.whl (67.0 MB)\n",
            "\u001b[2K   \u001b[90m━━━━━━━━━━━━━━━━━━━━━━━━━━━━━━━━━━━━━━━━\u001b[0m \u001b[32m67.0/67.0 MB\u001b[0m \u001b[31m14.8 MB/s\u001b[0m  \u001b[33m0:00:04\u001b[0mm0:00:01\u001b[0m00:01\u001b[0m\n",
            "\u001b[?25hDownloading numpy-2.2.6-cp311-cp311-manylinux_2_17_x86_64.manylinux2014_x86_64.whl (16.8 MB)\n",
            "\u001b[2K   \u001b[90m━━━━━━━━━━━━━━━━━━━━━━━━━━━━━━━━━━━━━━━━\u001b[0m \u001b[32m16.8/16.8 MB\u001b[0m \u001b[31m13.8 MB/s\u001b[0m  \u001b[33m0:00:01\u001b[0mm0:00:01\u001b[0m00:01\u001b[0m\n",
            "\u001b[?25hInstalling collected packages: numpy, opencv-python\n",
            "\u001b[2K  Attempting uninstall: numpy\n",
            "\u001b[2K    Found existing installation: numpy 2.3.4\n",
            "\u001b[2K    Uninstalling numpy-2.3.4:\n",
            "\u001b[2K      Successfully uninstalled numpy-2.3.4\n",
            "\u001b[2K   \u001b[90m━━━━━━━━━━━━━━━━━━━━━━━━━━━━━━━━━━━━━━━━\u001b[0m \u001b[32m2/2\u001b[0m [opencv-python]0m [opencv-python]\n",
            "\u001b[1A\u001b[2K\u001b[31mERROR: pip's dependency resolver does not currently take into account all the packages that are installed. This behaviour is the source of the following dependency conflicts.\n",
            "ripser 0.6.12 requires Cython, which is not installed.\n",
            "numpy-typing-compat 20250818.2.3 requires numpy<2.4,>=2.3, but you have numpy 2.2.6 which is incompatible.\u001b[0m\u001b[31m\n",
            "\u001b[0mSuccessfully installed numpy-2.2.6 opencv-python-4.12.0.88\n",
            "Note: you may need to restart the kernel to use updated packages.\n"
          ]
        }
      ],
      "source": [
        "%pip install opencv-python\n"
      ]
    },
    {
      "cell_type": "code",
      "execution_count": null,
      "id": "4ac120e1",
      "metadata": {},
      "outputs": [],
      "source": [
        "import cv2\n",
        "import scipy.ndimage as ndi\n",
        "T = TopologicalFeatures_Detection(numOfDirections = 8)\n",
        "Image, Label = train_dataset[0]\n",
        "Image = cv2.resize(src=np.array(Image).reshape(28,28),dsize=(50, 50),interpolation=cv2.INTER_CUBIC)\n",
        "cy, cx = ndi.center_of_mass(Image)\n",
        "t = np.float32([[1, 0, 25-cx], [0, 1, 25-cy]])\n",
        "\n",
        "Image = cv2.warpAffine(Image, t, (50, 50))\n",
        "cy, cx = ndi.center_of_mass(Image)\n",
        "\n",
        "print(cy, cx)\n",
        "H0_demo, H1_demo = T.detect(Image,50)\n",
        "plt.imshow((Image).reshape(50,50))"
      ]
    },
    {
      "cell_type": "markdown",
      "id": "c6ee8143d1c4233c",
      "metadata": {
        "id": "c6ee8143d1c4233c"
      },
      "source": [
        "# Step Two: Feature Matching"
      ]
    },
    {
      "cell_type": "code",
      "execution_count": null,
      "id": "a846ee59a3c18bde",
      "metadata": {
        "id": "a846ee59a3c18bde"
      },
      "outputs": [],
      "source": [
        "train_dataset_images = []\n",
        "train_dataset_label = []\n",
        "\n",
        "for image, label in train_dataset:\n",
        "    train_dataset_images.append(np.array(image).reshape(28,28))\n",
        "    train_dataset_label.append(label)"
      ]
    },
    {
      "cell_type": "code",
      "execution_count": null,
      "id": "c7edde5450fa4e50",
      "metadata": {
        "id": "c7edde5450fa4e50"
      },
      "outputs": [],
      "source": [
        "RefPics = []\n",
        "\n",
        "new_train_dataset = []\n",
        "new_train_dataset_label = []\n",
        "\n",
        "for i in range(9):\n",
        "    ind = np.where(np.array(train_dataset_label) == i)[0]\n",
        "    j = random.choice(list(ind))\n",
        "    image = train_dataset_images[j]\n",
        "    H0, H1 = T.detect(image,28)\n",
        "    RefPics.append([H0,H1])\n",
        "\n",
        "    #rotIndex = []\n",
        "    #for j in range(20):\n",
        "        #angle = random.uniform(0,360)\n",
        "        #while angle in tempIndex:\n",
        "            #angle = random.uniform(0,360)\n",
        "        #rotIndex.append(refIndex)\n",
        "        #new_train_dataset.append(scipy.ndimage.rotate(image, angle, reshape=False))\n",
        "        #new_train_dataset_label.append(train_dataset_label[ind])\n"
      ]
    },
    {
      "cell_type": "code",
      "execution_count": null,
      "id": "9c906c266170dda1",
      "metadata": {
        "colab": {
          "base_uri": "https://localhost:8080/",
          "height": 486
        },
        "id": "9c906c266170dda1",
        "outputId": "de2506a4-ed36-4f91-bff0-c322580baf7d"
      },
      "outputs": [
        {
          "name": "stdout",
          "output_type": "stream",
          "text": [
            "25.29343865064919 23.753213825262907\n",
            "[[np.float64(0.0005548993058222125), [0, 1, 2, 3, 4, 5, 6, 7]]]\n"
          ]
        },
        {
          "data": {
            "image/png": "[encoded data removed]",
            "text/plain": [
              "<Figure size 640x480 with 1 Axes>"
            ]
          },
          "metadata": {},
          "output_type": "display_data"
        }
      ],
      "source": [
        "import cv2\n",
        "rotation_matrix = cv2.getRotationMatrix2D((25,25), 135, 1)\n",
        "Image2 , Label2= train_dataset[1]\n",
        "Image2 = cv2.resize(src=np.array(Image2).reshape(28,28),dsize=(50, 50),interpolation=cv2.INTER_CUBIC)\n",
        "cy, cx = ndi.center_of_mass(Image2)\n",
        "t = np.float32([[1, 0, 25-cx], [0, 1, 25-cy]])\n",
        "rotated_image = cv2.warpAffine(src=np.array(Image2).reshape(50,50), M=rotation_matrix, dsize=(50, 50))\n",
        "\n",
        "rotated_image = cv2.warpAffine(rotated_image, t, (50, 50))\n",
        "cy, cx = ndi.center_of_mass(rotated_image)\n",
        "print(cy, cx)\n",
        "plt.imshow(rotated_image)\n",
        "\n",
        "H0_demo_rot, H1_demo_rot = T.detect(rotated_image,50)\n",
        "\n",
        "Probs = T.matching([H0_demo, H1_demo], [[H0_demo_rot, H1_demo_rot]])\n",
        "print(Probs)"
      ]
    },
    {
      "cell_type": "code",
      "execution_count": null,
      "id": "34883c18e166574e",
      "metadata": {
        "colab": {
          "base_uri": "https://localhost:8080/",
          "height": 400
        },
        "id": "34883c18e166574e",
        "outputId": "11974908-29d1-4be5-cb96-39069e87d5ef"
      },
      "outputs": [
        {
          "name": "stdout",
          "output_type": "stream",
          "text": [
            "Training Model...\n"
          ]
        },
        {
          "ename": "IndexError",
          "evalue": "index 4 is out of bounds for axis 0 with size 4",
          "output_type": "error",
          "traceback": [
            "\u001b[0;31m---------------------------------------------------------------------------\u001b[0m",
            "\u001b[0;31mIndexError\u001b[0m                                Traceback (most recent call last)",
            "\u001b[0;32m<ipython-input-218-dd069a3adbd6>\u001b[0m in \u001b[0;36m<cell line: 0>\u001b[0;34m()\u001b[0m\n\u001b[1;32m      1\u001b[0m \u001b[0mprint\u001b[0m\u001b[0;34m(\u001b[0m\u001b[0;34m\"Training Model...\"\u001b[0m\u001b[0;34m)\u001b[0m\u001b[0;34m\u001b[0m\u001b[0;34m\u001b[0m\u001b[0m\n\u001b[0;32m----> 2\u001b[0;31m \u001b[0mT\u001b[0m\u001b[0;34m.\u001b[0m\u001b[0mtrain\u001b[0m\u001b[0;34m(\u001b[0m\u001b[0mtrain_dataset_images\u001b[0m\u001b[0;34m[\u001b[0m\u001b[0;36m0\u001b[0m\u001b[0;34m:\u001b[0m\u001b[0;36m500\u001b[0m\u001b[0;34m]\u001b[0m\u001b[0;34m,\u001b[0m\u001b[0mtrain_dataset_label\u001b[0m\u001b[0;34m[\u001b[0m\u001b[0;36m0\u001b[0m\u001b[0;34m:\u001b[0m\u001b[0;36m500\u001b[0m\u001b[0;34m]\u001b[0m\u001b[0;34m,\u001b[0m\u001b[0mRefPics\u001b[0m\u001b[0;34m,\u001b[0m\u001b[0;36m28\u001b[0m\u001b[0;34m)\u001b[0m\u001b[0;34m\u001b[0m\u001b[0;34m\u001b[0m\u001b[0m\n\u001b[0m\u001b[1;32m      3\u001b[0m \u001b[0mprint\u001b[0m\u001b[0;34m(\u001b[0m\u001b[0;34m\"Evaluating Model...\"\u001b[0m\u001b[0;34m)\u001b[0m\u001b[0;34m\u001b[0m\u001b[0;34m\u001b[0m\u001b[0m\n\u001b[1;32m      4\u001b[0m \u001b[0mT\u001b[0m\u001b[0;34m.\u001b[0m\u001b[0mevaluate\u001b[0m\u001b[0;34m(\u001b[0m\u001b[0mtrain_dataset_images\u001b[0m\u001b[0;34m[\u001b[0m\u001b[0;36m0\u001b[0m\u001b[0;34m:\u001b[0m\u001b[0;36m100\u001b[0m\u001b[0;34m]\u001b[0m\u001b[0;34m,\u001b[0m\u001b[0mtrain_dataset_label\u001b[0m\u001b[0;34m[\u001b[0m\u001b[0;36m0\u001b[0m\u001b[0;34m:\u001b[0m\u001b[0;36m100\u001b[0m\u001b[0;34m]\u001b[0m\u001b[0;34m,\u001b[0m\u001b[0mRefPics\u001b[0m\u001b[0;34m,\u001b[0m\u001b[0;36m28\u001b[0m\u001b[0;34m)\u001b[0m\u001b[0;34m\u001b[0m\u001b[0;34m\u001b[0m\u001b[0m\n",
            "\u001b[0;32m<ipython-input-212-80a321f8a084>\u001b[0m in \u001b[0;36mtrain\u001b[0;34m(self, training_dataset, training_label, RefTopInformation, size)\u001b[0m\n\u001b[1;32m     54\u001b[0m     \u001b[0;32mdef\u001b[0m \u001b[0mtrain\u001b[0m\u001b[0;34m(\u001b[0m\u001b[0mself\u001b[0m\u001b[0;34m,\u001b[0m \u001b[0mtraining_dataset\u001b[0m\u001b[0;34m,\u001b[0m \u001b[0mtraining_label\u001b[0m\u001b[0;34m,\u001b[0m \u001b[0mRefTopInformation\u001b[0m\u001b[0;34m,\u001b[0m \u001b[0msize\u001b[0m\u001b[0;34m)\u001b[0m \u001b[0;34m->\u001b[0m \u001b[0;32mNone\u001b[0m\u001b[0;34m:\u001b[0m\u001b[0;34m\u001b[0m\u001b[0;34m\u001b[0m\u001b[0m\n\u001b[1;32m     55\u001b[0m         \u001b[0mTopInfo\u001b[0m \u001b[0;34m=\u001b[0m \u001b[0mlist\u001b[0m\u001b[0;34m(\u001b[0m\u001b[0mmap\u001b[0m\u001b[0;34m(\u001b[0m\u001b[0;32mlambda\u001b[0m \u001b[0mx\u001b[0m\u001b[0;34m:\u001b[0m \u001b[0mself\u001b[0m\u001b[0;34m.\u001b[0m\u001b[0mdetect\u001b[0m\u001b[0;34m(\u001b[0m\u001b[0mx\u001b[0m\u001b[0;34m,\u001b[0m\u001b[0msize\u001b[0m\u001b[0;34m)\u001b[0m\u001b[0;34m,\u001b[0m\u001b[0mtraining_dataset\u001b[0m\u001b[0;34m)\u001b[0m\u001b[0;34m)\u001b[0m\u001b[0;34m\u001b[0m\u001b[0;34m\u001b[0m\u001b[0m\n\u001b[0;32m---> 56\u001b[0;31m         \u001b[0mmatchingProbs\u001b[0m \u001b[0;34m=\u001b[0m \u001b[0mlist\u001b[0m\u001b[0;34m(\u001b[0m\u001b[0mmap\u001b[0m\u001b[0;34m(\u001b[0m\u001b[0;32mlambda\u001b[0m \u001b[0mx\u001b[0m\u001b[0;34m:\u001b[0m \u001b[0mself\u001b[0m\u001b[0;34m.\u001b[0m\u001b[0mmatching\u001b[0m\u001b[0;34m(\u001b[0m\u001b[0mx\u001b[0m\u001b[0;34m,\u001b[0m\u001b[0mRefTopInformation\u001b[0m\u001b[0;34m)\u001b[0m\u001b[0;34m,\u001b[0m \u001b[0mTopInfo\u001b[0m\u001b[0;34m)\u001b[0m\u001b[0;34m)\u001b[0m\u001b[0;34m\u001b[0m\u001b[0;34m\u001b[0m\u001b[0m\n\u001b[0m\u001b[1;32m     57\u001b[0m         \u001b[0mmodel\u001b[0m \u001b[0;34m=\u001b[0m \u001b[0mLogisticRegression\u001b[0m\u001b[0;34m(\u001b[0m\u001b[0mmulti_class\u001b[0m\u001b[0;34m=\u001b[0m\u001b[0;34m'multinomial'\u001b[0m\u001b[0;34m,\u001b[0m \u001b[0msolver\u001b[0m\u001b[0;34m=\u001b[0m\u001b[0;34m'lbfgs'\u001b[0m\u001b[0;34m)\u001b[0m\u001b[0;34m\u001b[0m\u001b[0;34m\u001b[0m\u001b[0m\n\u001b[1;32m     58\u001b[0m         \u001b[0mmodel\u001b[0m\u001b[0;34m.\u001b[0m\u001b[0mfit\u001b[0m\u001b[0;34m(\u001b[0m\u001b[0mmatchingProbs\u001b[0m\u001b[0;34m,\u001b[0m \u001b[0mtraining_label\u001b[0m\u001b[0;34m)\u001b[0m\u001b[0;34m\u001b[0m\u001b[0;34m\u001b[0m\u001b[0m\n",
            "\u001b[0;32m<ipython-input-212-80a321f8a084>\u001b[0m in \u001b[0;36m<lambda>\u001b[0;34m(x)\u001b[0m\n\u001b[1;32m     54\u001b[0m     \u001b[0;32mdef\u001b[0m \u001b[0mtrain\u001b[0m\u001b[0;34m(\u001b[0m\u001b[0mself\u001b[0m\u001b[0;34m,\u001b[0m \u001b[0mtraining_dataset\u001b[0m\u001b[0;34m,\u001b[0m \u001b[0mtraining_label\u001b[0m\u001b[0;34m,\u001b[0m \u001b[0mRefTopInformation\u001b[0m\u001b[0;34m,\u001b[0m \u001b[0msize\u001b[0m\u001b[0;34m)\u001b[0m \u001b[0;34m->\u001b[0m \u001b[0;32mNone\u001b[0m\u001b[0;34m:\u001b[0m\u001b[0;34m\u001b[0m\u001b[0;34m\u001b[0m\u001b[0m\n\u001b[1;32m     55\u001b[0m         \u001b[0mTopInfo\u001b[0m \u001b[0;34m=\u001b[0m \u001b[0mlist\u001b[0m\u001b[0;34m(\u001b[0m\u001b[0mmap\u001b[0m\u001b[0;34m(\u001b[0m\u001b[0;32mlambda\u001b[0m \u001b[0mx\u001b[0m\u001b[0;34m:\u001b[0m \u001b[0mself\u001b[0m\u001b[0;34m.\u001b[0m\u001b[0mdetect\u001b[0m\u001b[0;34m(\u001b[0m\u001b[0mx\u001b[0m\u001b[0;34m,\u001b[0m\u001b[0msize\u001b[0m\u001b[0;34m)\u001b[0m\u001b[0;34m,\u001b[0m\u001b[0mtraining_dataset\u001b[0m\u001b[0;34m)\u001b[0m\u001b[0;34m)\u001b[0m\u001b[0;34m\u001b[0m\u001b[0;34m\u001b[0m\u001b[0m\n\u001b[0;32m---> 56\u001b[0;31m         \u001b[0mmatchingProbs\u001b[0m \u001b[0;34m=\u001b[0m \u001b[0mlist\u001b[0m\u001b[0;34m(\u001b[0m\u001b[0mmap\u001b[0m\u001b[0;34m(\u001b[0m\u001b[0;32mlambda\u001b[0m \u001b[0mx\u001b[0m\u001b[0;34m:\u001b[0m \u001b[0mself\u001b[0m\u001b[0;34m.\u001b[0m\u001b[0mmatching\u001b[0m\u001b[0;34m(\u001b[0m\u001b[0mx\u001b[0m\u001b[0;34m,\u001b[0m\u001b[0mRefTopInformation\u001b[0m\u001b[0;34m)\u001b[0m\u001b[0;34m,\u001b[0m \u001b[0mTopInfo\u001b[0m\u001b[0;34m)\u001b[0m\u001b[0;34m)\u001b[0m\u001b[0;34m\u001b[0m\u001b[0;34m\u001b[0m\u001b[0m\n\u001b[0m\u001b[1;32m     57\u001b[0m         \u001b[0mmodel\u001b[0m \u001b[0;34m=\u001b[0m \u001b[0mLogisticRegression\u001b[0m\u001b[0;34m(\u001b[0m\u001b[0mmulti_class\u001b[0m\u001b[0;34m=\u001b[0m\u001b[0;34m'multinomial'\u001b[0m\u001b[0;34m,\u001b[0m \u001b[0msolver\u001b[0m\u001b[0;34m=\u001b[0m\u001b[0;34m'lbfgs'\u001b[0m\u001b[0;34m)\u001b[0m\u001b[0;34m\u001b[0m\u001b[0;34m\u001b[0m\u001b[0m\n\u001b[1;32m     58\u001b[0m         \u001b[0mmodel\u001b[0m\u001b[0;34m.\u001b[0m\u001b[0mfit\u001b[0m\u001b[0;34m(\u001b[0m\u001b[0mmatchingProbs\u001b[0m\u001b[0;34m,\u001b[0m \u001b[0mtraining_label\u001b[0m\u001b[0;34m)\u001b[0m\u001b[0;34m\u001b[0m\u001b[0;34m\u001b[0m\u001b[0m\n",
            "\u001b[0;32m<ipython-input-212-80a321f8a084>\u001b[0m in \u001b[0;36mmatching\u001b[0;34m(self, SensedtopInformation, RefTopInformation)\u001b[0m\n\u001b[1;32m     45\u001b[0m             \u001b[0mcurrentMin\u001b[0m \u001b[0;34m=\u001b[0m \u001b[0mfloat\u001b[0m\u001b[0;34m(\u001b[0m\u001b[0;34m'inf'\u001b[0m\u001b[0;34m)\u001b[0m\u001b[0;34m\u001b[0m\u001b[0;34m\u001b[0m\u001b[0m\n\u001b[1;32m     46\u001b[0m             \u001b[0;32mfor\u001b[0m \u001b[0mcycle\u001b[0m \u001b[0;32min\u001b[0m \u001b[0mcycles\u001b[0m\u001b[0;34m:\u001b[0m\u001b[0;34m\u001b[0m\u001b[0;34m\u001b[0m\u001b[0m\n\u001b[0;32m---> 47\u001b[0;31m                 \u001b[0mscore\u001b[0m \u001b[0;34m=\u001b[0m \u001b[0msum\u001b[0m\u001b[0;34m(\u001b[0m\u001b[0mD0\u001b[0m\u001b[0;34m[\u001b[0m\u001b[0;34m[\u001b[0m\u001b[0mi\u001b[0m \u001b[0;32mfor\u001b[0m \u001b[0mi\u001b[0m \u001b[0;32min\u001b[0m \u001b[0mrange\u001b[0m\u001b[0;34m(\u001b[0m\u001b[0mself\u001b[0m\u001b[0;34m.\u001b[0m\u001b[0mnumOfDirections\u001b[0m\u001b[0;34m)\u001b[0m\u001b[0;34m]\u001b[0m\u001b[0;34m,\u001b[0m\u001b[0mcycle\u001b[0m\u001b[0;34m]\u001b[0m\u001b[0;34m*\u001b[0m\u001b[0mD0\u001b[0m\u001b[0;34m[\u001b[0m\u001b[0;34m[\u001b[0m\u001b[0mi\u001b[0m \u001b[0;32mfor\u001b[0m \u001b[0mi\u001b[0m \u001b[0;32min\u001b[0m \u001b[0mrange\u001b[0m\u001b[0;34m(\u001b[0m\u001b[0mself\u001b[0m\u001b[0;34m.\u001b[0m\u001b[0mnumOfDirections\u001b[0m\u001b[0;34m)\u001b[0m\u001b[0;34m]\u001b[0m\u001b[0;34m,\u001b[0m\u001b[0mcycle\u001b[0m\u001b[0;34m]\u001b[0m\u001b[0;34m)\u001b[0m\u001b[0;34m+\u001b[0m\u001b[0msum\u001b[0m\u001b[0;34m(\u001b[0m\u001b[0mD1\u001b[0m\u001b[0;34m[\u001b[0m\u001b[0;34m[\u001b[0m\u001b[0mi\u001b[0m \u001b[0;32mfor\u001b[0m \u001b[0mi\u001b[0m \u001b[0;32min\u001b[0m \u001b[0mrange\u001b[0m\u001b[0;34m(\u001b[0m\u001b[0mself\u001b[0m\u001b[0;34m.\u001b[0m\u001b[0mnumOfDirections\u001b[0m\u001b[0;34m)\u001b[0m\u001b[0;34m]\u001b[0m\u001b[0;34m,\u001b[0m\u001b[0mcycle\u001b[0m\u001b[0;34m]\u001b[0m\u001b[0;34m*\u001b[0m\u001b[0mD1\u001b[0m\u001b[0;34m[\u001b[0m\u001b[0;34m[\u001b[0m\u001b[0mi\u001b[0m \u001b[0;32mfor\u001b[0m \u001b[0mi\u001b[0m \u001b[0;32min\u001b[0m \u001b[0mrange\u001b[0m\u001b[0;34m(\u001b[0m\u001b[0mself\u001b[0m\u001b[0;34m.\u001b[0m\u001b[0mnumOfDirections\u001b[0m\u001b[0;34m)\u001b[0m\u001b[0;34m]\u001b[0m\u001b[0;34m,\u001b[0m\u001b[0mcycle\u001b[0m\u001b[0;34m]\u001b[0m\u001b[0;34m)\u001b[0m\u001b[0;34m/\u001b[0m\u001b[0;34m(\u001b[0m\u001b[0;36m2\u001b[0m\u001b[0;34m*\u001b[0m\u001b[0mself\u001b[0m\u001b[0;34m.\u001b[0m\u001b[0mnumOfDirections\u001b[0m\u001b[0;34m)\u001b[0m\u001b[0;34m\u001b[0m\u001b[0;34m\u001b[0m\u001b[0m\n\u001b[0m\u001b[1;32m     48\u001b[0m                 \u001b[0;32mif\u001b[0m \u001b[0mscore\u001b[0m \u001b[0;34m<\u001b[0m \u001b[0mcurrentMin\u001b[0m\u001b[0;34m:\u001b[0m\u001b[0;34m\u001b[0m\u001b[0;34m\u001b[0m\u001b[0m\n\u001b[1;32m     49\u001b[0m                     \u001b[0mBestCycle\u001b[0m \u001b[0;34m=\u001b[0m \u001b[0mcycle\u001b[0m\u001b[0;34m\u001b[0m\u001b[0;34m\u001b[0m\u001b[0m\n",
            "\u001b[0;31mIndexError\u001b[0m: index 4 is out of bounds for axis 0 with size 4"
          ]
        }
      ],
      "source": [
        "print(\"Training Model...\")\n",
        "T.train(train_dataset_images[0:500],train_dataset_label[0:500],RefPics,28)\n",
        "print(\"Evaluating Model...\")\n",
        "T.evaluate(train_dataset_images[0:100],train_dataset_label[0:100],RefPics,28)"
      ]
    }
  ],
  "metadata": {
    "colab": {
      "provenance": []
    },
    "kernelspec": {
      "display_name": "Python 3 (ipykernel)",
      "language": "python",
      "name": "python3"
    }
  },
  "nbformat": 4,
  "nbformat_minor": 5
}
